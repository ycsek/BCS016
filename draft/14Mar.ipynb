{
 "cells": [
  {
   "cell_type": "code",
   "execution_count": 1,
   "metadata": {},
   "outputs": [],
   "source": [
    "import pymysql\n",
    "# connect database\n",
    "db = pymysql.connect(host='localhost', user='root', password='050801', db='PMS01_J')"
   ]
  },
  {
   "cell_type": "code",
   "execution_count": 2,
   "metadata": {},
   "outputs": [
    {
     "name": "stdout",
     "output_type": "stream",
     "text": [
      "(('sc_j',), ('student_j',))\n"
     ]
    }
   ],
   "source": [
    "myc1 = db.cursor()\n",
    "myc1.execute('SHOW TABLES')\n",
    "print(myc1.fetchall())"
   ]
  },
  {
   "cell_type": "code",
   "execution_count": 3,
   "metadata": {},
   "outputs": [
    {
     "name": "stdout",
     "output_type": "stream",
     "text": [
      "((1, 'aaa', 21, 'd01'), (5, 'eee', 25, 'd02'))\n",
      "(6, 'fff', 26, 'do1')\n",
      "((7, 'ggg', 27, 'do1'),)\n"
     ]
    }
   ],
   "source": [
    "myc1.execute('SELECT * FROM STUDENT_J')\n",
    "print(myc1.fetchmany(2))\n",
    "print(myc1.fetchone())\n",
    "print(myc1.fetchall())"
   ]
  },
  {
   "cell_type": "code",
   "execution_count": 5,
   "metadata": {},
   "outputs": [
    {
     "name": "stdout",
     "output_type": "stream",
     "text": [
      "((2, 'bbb', 22, 'd02'), (3, 'ccc', 23, 'd03'), (4, 'ddd', 24, 'd04'))\n",
      "None\n",
      "()\n"
     ]
    }
   ],
   "source": [
    "myc1.execute('SELECT * FROM STUDENT_J where sid > 1')\n",
    "print(myc1.fetchall())\n",
    "print(myc1.fetchone())\n",
    "print(myc1.fetchall())"
   ]
  },
  {
   "cell_type": "code",
   "execution_count": 8,
   "metadata": {},
   "outputs": [
    {
     "name": "stdout",
     "output_type": "stream",
     "text": [
      "[{'Tables_in_pms01_j': 'student_j'}]\n"
     ]
    }
   ],
   "source": [
    "\n",
    "myc1.execute('SHOW TABLES;')\n",
    "print(myc1.fetchall())"
   ]
  },
  {
   "cell_type": "code",
   "execution_count": 9,
   "metadata": {},
   "outputs": [
    {
     "name": "stdout",
     "output_type": "stream",
     "text": [
      "{'sid': 1, 'sname': 'aaa', 'sage': 21, 'dno': 'd01'}\n",
      "{'sid': 2, 'sname': 'bbb', 'sage': 22, 'dno': 'd02'}\n",
      "{'sid': 3, 'sname': 'ccc', 'sage': 23, 'dno': 'd03'}\n",
      "{'sid': 4, 'sname': 'ddd', 'sage': 24, 'dno': 'd04'}\n"
     ]
    }
   ],
   "source": [
    "myc1.execute('SELECT * FROM STUDENT_J;')\n",
    "for i in myc1.fetchall():\n",
    "    print(i)"
   ]
  },
  {
   "cell_type": "code",
   "execution_count": 10,
   "metadata": {},
   "outputs": [
    {
     "data": {
      "text/plain": [
       "3"
      ]
     },
     "execution_count": 10,
     "metadata": {},
     "output_type": "execute_result"
    }
   ],
   "source": [
    "myc1.execute(\n",
    "    \"\"\"\n",
    "insert into STUDENT_J (sid, sname, dno, sage)\n",
    "values \n",
    "(5, 'eee', 'do1', 25),\n",
    "(6, 'fff', 'do1', 26),\n",
    "(7, 'ggg', 'do1', 27);\n",
    "\"\"\"\n",
    ")"
   ]
  },
  {
   "cell_type": "code",
   "execution_count": 11,
   "metadata": {},
   "outputs": [],
   "source": [
    "db.commit()"
   ]
  },
  {
   "cell_type": "code",
   "execution_count": 12,
   "metadata": {},
   "outputs": [
    {
     "name": "stdout",
     "output_type": "stream",
     "text": [
      "{'sid': 1, 'sname': 'aaa', 'sage': 21, 'dno': 'd01'}\n",
      "{'sid': 2, 'sname': 'bbb', 'sage': 22, 'dno': 'd02'}\n",
      "{'sid': 3, 'sname': 'ccc', 'sage': 23, 'dno': 'd03'}\n",
      "{'sid': 4, 'sname': 'ddd', 'sage': 24, 'dno': 'd04'}\n",
      "{'sid': 5, 'sname': 'eee', 'sage': 25, 'dno': 'do1'}\n",
      "{'sid': 6, 'sname': 'fff', 'sage': 26, 'dno': 'do1'}\n",
      "{'sid': 7, 'sname': 'ggg', 'sage': 27, 'dno': 'do1'}\n"
     ]
    }
   ],
   "source": [
    "myc1.execute('SELECT * FROM STUDENT_J;')\n",
    "for i in myc1.fetchall():\n",
    "    print(i)"
   ]
  },
  {
   "cell_type": "code",
   "execution_count": 13,
   "metadata": {},
   "outputs": [],
   "source": [
    "myc1.execute('delete from STUDENT_J where sage between 22 and 24;')\n",
    "db.commit()"
   ]
  },
  {
   "cell_type": "code",
   "execution_count": 14,
   "metadata": {},
   "outputs": [
    {
     "name": "stdout",
     "output_type": "stream",
     "text": [
      "{'sid': 1, 'sname': 'aaa', 'sage': 21, 'dno': 'd01'}\n",
      "{'sid': 5, 'sname': 'eee', 'sage': 25, 'dno': 'do1'}\n",
      "{'sid': 6, 'sname': 'fff', 'sage': 26, 'dno': 'do1'}\n",
      "{'sid': 7, 'sname': 'ggg', 'sage': 27, 'dno': 'do1'}\n"
     ]
    }
   ],
   "source": [
    "myc1.execute('SELECT * FROM STUDENT_J;')\n",
    "for i in myc1.fetchall():\n",
    "    print(i)"
   ]
  },
  {
   "cell_type": "code",
   "execution_count": 16,
   "metadata": {},
   "outputs": [],
   "source": [
    "myc1.execute('''\n",
    "update STUDENT_J\n",
    "set dno = 'd02'\n",
    "where sid = 5;\n",
    "''')\n",
    "db.commit()"
   ]
  },
  {
   "cell_type": "code",
   "execution_count": 17,
   "metadata": {},
   "outputs": [
    {
     "name": "stdout",
     "output_type": "stream",
     "text": [
      "{'sid': 1, 'sname': 'aaa', 'sage': 21, 'dno': 'd01'}\n",
      "{'sid': 5, 'sname': 'eee', 'sage': 25, 'dno': 'd02'}\n",
      "{'sid': 6, 'sname': 'fff', 'sage': 26, 'dno': 'do1'}\n",
      "{'sid': 7, 'sname': 'ggg', 'sage': 27, 'dno': 'do1'}\n"
     ]
    }
   ],
   "source": [
    "myc1.execute('SELECT * FROM STUDENT_J;')\n",
    "for i in myc1.fetchall():\n",
    "    print(i)"
   ]
  },
  {
   "cell_type": "code",
   "execution_count": 25,
   "metadata": {},
   "outputs": [
    {
     "ename": "OperationalError",
     "evalue": "(1050, \"Table 'sc_j' already exists\")",
     "output_type": "error",
     "traceback": [
      "\u001b[1;31m---------------------------------------------------------------------------\u001b[0m",
      "\u001b[1;31mOperationalError\u001b[0m                          Traceback (most recent call last)",
      "Cell \u001b[1;32mIn[25], line 1\u001b[0m\n\u001b[1;32m----> 1\u001b[0m myc1\u001b[38;5;241m.\u001b[39mexecute(\u001b[38;5;124m'''\u001b[39m\n\u001b[0;32m      2\u001b[0m \u001b[38;5;124mCREATE TABLE SC_J (\u001b[39m\n\u001b[0;32m      3\u001b[0m \u001b[38;5;124msid INT,\u001b[39m\n\u001b[0;32m      4\u001b[0m \u001b[38;5;124mcid INT,\u001b[39m\n\u001b[0;32m      5\u001b[0m \u001b[38;5;124mscore INT,\u001b[39m\n\u001b[0;32m      6\u001b[0m \u001b[38;5;124mPRIMARY KEY (sid, cid)\u001b[39m\n\u001b[0;32m      7\u001b[0m \u001b[38;5;124m);\u001b[39m\n\u001b[0;32m      8\u001b[0m \u001b[38;5;124m'''\u001b[39m)\n",
      "File \u001b[1;32mc:\\Users\\YuChe\\anaconda3\\Lib\\site-packages\\pymysql\\cursors.py:153\u001b[0m, in \u001b[0;36mCursor.execute\u001b[1;34m(self, query, args)\u001b[0m\n\u001b[0;32m    149\u001b[0m     \u001b[38;5;28;01mpass\u001b[39;00m\n\u001b[0;32m    151\u001b[0m query \u001b[38;5;241m=\u001b[39m \u001b[38;5;28mself\u001b[39m\u001b[38;5;241m.\u001b[39mmogrify(query, args)\n\u001b[1;32m--> 153\u001b[0m result \u001b[38;5;241m=\u001b[39m \u001b[38;5;28mself\u001b[39m\u001b[38;5;241m.\u001b[39m_query(query)\n\u001b[0;32m    154\u001b[0m \u001b[38;5;28mself\u001b[39m\u001b[38;5;241m.\u001b[39m_executed \u001b[38;5;241m=\u001b[39m query\n\u001b[0;32m    155\u001b[0m \u001b[38;5;28;01mreturn\u001b[39;00m result\n",
      "File \u001b[1;32mc:\\Users\\YuChe\\anaconda3\\Lib\\site-packages\\pymysql\\cursors.py:322\u001b[0m, in \u001b[0;36mCursor._query\u001b[1;34m(self, q)\u001b[0m\n\u001b[0;32m    320\u001b[0m conn \u001b[38;5;241m=\u001b[39m \u001b[38;5;28mself\u001b[39m\u001b[38;5;241m.\u001b[39m_get_db()\n\u001b[0;32m    321\u001b[0m \u001b[38;5;28mself\u001b[39m\u001b[38;5;241m.\u001b[39m_clear_result()\n\u001b[1;32m--> 322\u001b[0m conn\u001b[38;5;241m.\u001b[39mquery(q)\n\u001b[0;32m    323\u001b[0m \u001b[38;5;28mself\u001b[39m\u001b[38;5;241m.\u001b[39m_do_get_result()\n\u001b[0;32m    324\u001b[0m \u001b[38;5;28;01mreturn\u001b[39;00m \u001b[38;5;28mself\u001b[39m\u001b[38;5;241m.\u001b[39mrowcount\n",
      "File \u001b[1;32mc:\\Users\\YuChe\\anaconda3\\Lib\\site-packages\\pymysql\\connections.py:563\u001b[0m, in \u001b[0;36mConnection.query\u001b[1;34m(self, sql, unbuffered)\u001b[0m\n\u001b[0;32m    561\u001b[0m     sql \u001b[38;5;241m=\u001b[39m sql\u001b[38;5;241m.\u001b[39mencode(\u001b[38;5;28mself\u001b[39m\u001b[38;5;241m.\u001b[39mencoding, \u001b[38;5;124m\"\u001b[39m\u001b[38;5;124msurrogateescape\u001b[39m\u001b[38;5;124m\"\u001b[39m)\n\u001b[0;32m    562\u001b[0m \u001b[38;5;28mself\u001b[39m\u001b[38;5;241m.\u001b[39m_execute_command(COMMAND\u001b[38;5;241m.\u001b[39mCOM_QUERY, sql)\n\u001b[1;32m--> 563\u001b[0m \u001b[38;5;28mself\u001b[39m\u001b[38;5;241m.\u001b[39m_affected_rows \u001b[38;5;241m=\u001b[39m \u001b[38;5;28mself\u001b[39m\u001b[38;5;241m.\u001b[39m_read_query_result(unbuffered\u001b[38;5;241m=\u001b[39munbuffered)\n\u001b[0;32m    564\u001b[0m \u001b[38;5;28;01mreturn\u001b[39;00m \u001b[38;5;28mself\u001b[39m\u001b[38;5;241m.\u001b[39m_affected_rows\n",
      "File \u001b[1;32mc:\\Users\\YuChe\\anaconda3\\Lib\\site-packages\\pymysql\\connections.py:825\u001b[0m, in \u001b[0;36mConnection._read_query_result\u001b[1;34m(self, unbuffered)\u001b[0m\n\u001b[0;32m    823\u001b[0m \u001b[38;5;28;01melse\u001b[39;00m:\n\u001b[0;32m    824\u001b[0m     result \u001b[38;5;241m=\u001b[39m MySQLResult(\u001b[38;5;28mself\u001b[39m)\n\u001b[1;32m--> 825\u001b[0m     result\u001b[38;5;241m.\u001b[39mread()\n\u001b[0;32m    826\u001b[0m \u001b[38;5;28mself\u001b[39m\u001b[38;5;241m.\u001b[39m_result \u001b[38;5;241m=\u001b[39m result\n\u001b[0;32m    827\u001b[0m \u001b[38;5;28;01mif\u001b[39;00m result\u001b[38;5;241m.\u001b[39mserver_status \u001b[38;5;129;01mis\u001b[39;00m \u001b[38;5;129;01mnot\u001b[39;00m \u001b[38;5;28;01mNone\u001b[39;00m:\n",
      "File \u001b[1;32mc:\\Users\\YuChe\\anaconda3\\Lib\\site-packages\\pymysql\\connections.py:1199\u001b[0m, in \u001b[0;36mMySQLResult.read\u001b[1;34m(self)\u001b[0m\n\u001b[0;32m   1197\u001b[0m \u001b[38;5;28;01mdef\u001b[39;00m \u001b[38;5;21mread\u001b[39m(\u001b[38;5;28mself\u001b[39m):\n\u001b[0;32m   1198\u001b[0m     \u001b[38;5;28;01mtry\u001b[39;00m:\n\u001b[1;32m-> 1199\u001b[0m         first_packet \u001b[38;5;241m=\u001b[39m \u001b[38;5;28mself\u001b[39m\u001b[38;5;241m.\u001b[39mconnection\u001b[38;5;241m.\u001b[39m_read_packet()\n\u001b[0;32m   1201\u001b[0m         \u001b[38;5;28;01mif\u001b[39;00m first_packet\u001b[38;5;241m.\u001b[39mis_ok_packet():\n\u001b[0;32m   1202\u001b[0m             \u001b[38;5;28mself\u001b[39m\u001b[38;5;241m.\u001b[39m_read_ok_packet(first_packet)\n",
      "File \u001b[1;32mc:\\Users\\YuChe\\anaconda3\\Lib\\site-packages\\pymysql\\connections.py:775\u001b[0m, in \u001b[0;36mConnection._read_packet\u001b[1;34m(self, packet_type)\u001b[0m\n\u001b[0;32m    773\u001b[0m     \u001b[38;5;28;01mif\u001b[39;00m \u001b[38;5;28mself\u001b[39m\u001b[38;5;241m.\u001b[39m_result \u001b[38;5;129;01mis\u001b[39;00m \u001b[38;5;129;01mnot\u001b[39;00m \u001b[38;5;28;01mNone\u001b[39;00m \u001b[38;5;129;01mand\u001b[39;00m \u001b[38;5;28mself\u001b[39m\u001b[38;5;241m.\u001b[39m_result\u001b[38;5;241m.\u001b[39munbuffered_active \u001b[38;5;129;01mis\u001b[39;00m \u001b[38;5;28;01mTrue\u001b[39;00m:\n\u001b[0;32m    774\u001b[0m         \u001b[38;5;28mself\u001b[39m\u001b[38;5;241m.\u001b[39m_result\u001b[38;5;241m.\u001b[39munbuffered_active \u001b[38;5;241m=\u001b[39m \u001b[38;5;28;01mFalse\u001b[39;00m\n\u001b[1;32m--> 775\u001b[0m     packet\u001b[38;5;241m.\u001b[39mraise_for_error()\n\u001b[0;32m    776\u001b[0m \u001b[38;5;28;01mreturn\u001b[39;00m packet\n",
      "File \u001b[1;32mc:\\Users\\YuChe\\anaconda3\\Lib\\site-packages\\pymysql\\protocol.py:219\u001b[0m, in \u001b[0;36mMysqlPacket.raise_for_error\u001b[1;34m(self)\u001b[0m\n\u001b[0;32m    217\u001b[0m \u001b[38;5;28;01mif\u001b[39;00m DEBUG:\n\u001b[0;32m    218\u001b[0m     \u001b[38;5;28mprint\u001b[39m(\u001b[38;5;124m\"\u001b[39m\u001b[38;5;124merrno =\u001b[39m\u001b[38;5;124m\"\u001b[39m, errno)\n\u001b[1;32m--> 219\u001b[0m err\u001b[38;5;241m.\u001b[39mraise_mysql_exception(\u001b[38;5;28mself\u001b[39m\u001b[38;5;241m.\u001b[39m_data)\n",
      "File \u001b[1;32mc:\\Users\\YuChe\\anaconda3\\Lib\\site-packages\\pymysql\\err.py:150\u001b[0m, in \u001b[0;36mraise_mysql_exception\u001b[1;34m(data)\u001b[0m\n\u001b[0;32m    148\u001b[0m \u001b[38;5;28;01mif\u001b[39;00m errorclass \u001b[38;5;129;01mis\u001b[39;00m \u001b[38;5;28;01mNone\u001b[39;00m:\n\u001b[0;32m    149\u001b[0m     errorclass \u001b[38;5;241m=\u001b[39m InternalError \u001b[38;5;28;01mif\u001b[39;00m errno \u001b[38;5;241m<\u001b[39m \u001b[38;5;241m1000\u001b[39m \u001b[38;5;28;01melse\u001b[39;00m OperationalError\n\u001b[1;32m--> 150\u001b[0m \u001b[38;5;28;01mraise\u001b[39;00m errorclass(errno, errval)\n",
      "\u001b[1;31mOperationalError\u001b[0m: (1050, \"Table 'sc_j' already exists\")"
     ]
    }
   ],
   "source": [
    "myc1.execute('''\n",
    "CREATE TABLE SC_J (\n",
    "sid INT,\n",
    "cid INT,\n",
    "score INT,\n",
    "PRIMARY KEY (sid, cid)\n",
    ");\n",
    "''')\n"
   ]
  },
  {
   "cell_type": "code",
   "execution_count": 26,
   "metadata": {},
   "outputs": [
    {
     "name": "stdout",
     "output_type": "stream",
     "text": [
      "[{'Tables_in_pms01_j': 'sc_j'}, {'Tables_in_pms01_j': 'student_j'}]\n"
     ]
    }
   ],
   "source": [
    "myc1.execute('SHOW TABLES;')\n",
    "print(myc1.fetchall())"
   ]
  },
  {
   "cell_type": "code",
   "execution_count": 29,
   "metadata": {},
   "outputs": [],
   "source": [
    "myc1.execute('''\n",
    "insert into SC_J (sid, cid, score)\n",
    "values\n",
    "(1, 001, 84),\n",
    "(1, 002, 99),\n",
    "(2, 001, 93),\n",
    "(2, 002, 100),\n",
    "(2, 003, 98),\n",
    "(3, 002, 86),\n",
    "(3, 003, 57);\n",
    "''')\n",
    "db.commit()"
   ]
  },
  {
   "cell_type": "code",
   "execution_count": null,
   "metadata": {},
   "outputs": [
    {
     "name": "stdout",
     "output_type": "stream",
     "text": [
      "{'sid': 1, 'cid': 1, 'score': 84}\n",
      "{'sid': 1, 'cid': 2, 'score': 99}\n",
      "{'sid': 2, 'cid': 1, 'score': 93}\n",
      "{'sid': 2, 'cid': 2, 'score': 100}\n",
      "{'sid': 2, 'cid': 3, 'score': 98}\n",
      "{'sid': 3, 'cid': 2, 'score': 86}\n",
      "{'sid': 3, 'cid': 3, 'score': 57}\n"
     ]
    }
   ],
   "source": [
    "# show SC_J table\n",
    "myc1.execute('SELECT * FROM SC_J;')\n",
    "for i in myc1.fetchall():\n",
    "    print(i)"
   ]
  },
  {
   "cell_type": "code",
   "execution_count": 31,
   "metadata": {},
   "outputs": [
    {
     "name": "stdout",
     "output_type": "stream",
     "text": [
      "{'sid': 1, 'cid': 2, 'score': 99}\n",
      "{'sid': 2, 'cid': 2, 'score': 100}\n"
     ]
    }
   ],
   "source": [
    "# show score > 98 in SC_J table\n",
    "myc1.execute('SELECT * FROM SC_J where score > 98;')\n",
    "for i in myc1.fetchall():\n",
    "    print(i)"
   ]
  },
  {
   "cell_type": "code",
   "execution_count": 32,
   "metadata": {},
   "outputs": [
    {
     "data": {
      "text/plain": [
       "2"
      ]
     },
     "execution_count": 32,
     "metadata": {},
     "output_type": "execute_result"
    }
   ],
   "source": [
    "# show score > 98 in SC_J table but remove repeated data\n",
    "myc1.execute('SELECT distinct * FROM SC_J where score > 98;')"
   ]
  },
  {
   "cell_type": "code",
   "execution_count": 33,
   "metadata": {},
   "outputs": [
    {
     "name": "stdout",
     "output_type": "stream",
     "text": [
      "{'sid': 1, 'avg(score)': Decimal('91.5000')}\n",
      "{'sid': 2, 'avg(score)': Decimal('97.0000')}\n",
      "{'sid': 3, 'avg(score)': Decimal('71.5000')}\n"
     ]
    }
   ],
   "source": [
    "# show each sid's average score\n",
    "myc1.execute('SELECT sid, avg(score) FROM SC_J group by sid;')\n",
    "for i in myc1.fetchall():\n",
    "    print(i)"
   ]
  },
  {
   "cell_type": "code",
   "execution_count": 35,
   "metadata": {},
   "outputs": [
    {
     "name": "stdout",
     "output_type": "stream",
     "text": [
      "{'sid': 1, 'max(score)': 99}\n",
      "{'sid': 2, 'max(score)': 100}\n",
      "{'sid': 3, 'max(score)': 86}\n"
     ]
    }
   ],
   "source": [
    "# show max score of each sid\n",
    "myc1.execute('SELECT sid, max(score) FROM SC_J group by sid;')\n",
    "for i in myc1.fetchall():\n",
    "    print(i)"
   ]
  },
  {
   "cell_type": "code",
   "execution_count": 36,
   "metadata": {},
   "outputs": [
    {
     "name": "stdout",
     "output_type": "stream",
     "text": [
      "{'sid': 2, 'cid': 2, 'score': 100}\n",
      "{'sid': 1, 'cid': 2, 'score': 99}\n",
      "{'sid': 2, 'cid': 1, 'score': 93}\n",
      "{'sid': 3, 'cid': 2, 'score': 86}\n",
      "{'sid': 1, 'cid': 1, 'score': 84}\n"
     ]
    }
   ],
   "source": [
    "# show cid < 3 and use decending order\n",
    "myc1.execute('SELECT * FROM SC_J where cid < 3 order by score desc;')\n",
    "for i in myc1.fetchall():\n",
    "    print(i)"
   ]
  }
 ],
 "metadata": {
  "kernelspec": {
   "display_name": "base",
   "language": "python",
   "name": "python3"
  },
  "language_info": {
   "codemirror_mode": {
    "name": "ipython",
    "version": 3
   },
   "file_extension": ".py",
   "mimetype": "text/x-python",
   "name": "python",
   "nbconvert_exporter": "python",
   "pygments_lexer": "ipython3",
   "version": "3.12.4"
  }
 },
 "nbformat": 4,
 "nbformat_minor": 2
}
