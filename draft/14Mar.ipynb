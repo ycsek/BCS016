{
 "cells": [
  {
   "cell_type": "code",
   "execution_count": null,
   "metadata": {},
   "outputs": [],
   "source": [
    "import pymysql\n",
    "# connect database\n",
    "db = pymysql.connect(host='localhost', user='root', password='050801', db='PMS01_J')"
   ]
  },
  {
   "cell_type": "code",
   "execution_count": null,
   "metadata": {},
   "outputs": [],
   "source": [
    "myc1 = db.cursor()\n",
    "myc1.execute('SHOW TABLES')\n",
    "print(myc1.fetchall())"
   ]
  },
  {
   "cell_type": "code",
   "execution_count": null,
   "metadata": {},
   "outputs": [],
   "source": [
    "myc1.execute('SELECT * FROM STUDENT_J')\n",
    "print(myc1.fetchmany(2))\n",
    "print(myc1.fetchone())\n",
    "print(myc1.fetchall())"
   ]
  },
  {
   "cell_type": "code",
   "execution_count": null,
   "metadata": {},
   "outputs": [],
   "source": [
    "myc1.execute('SELECT * FROM STUDENT_J where sid > 1')\n",
    "print(myc1.fetchall())\n",
    "print(myc1.fetchone())\n",
    "print(myc1.fetchall())"
   ]
  },
  {
   "cell_type": "code",
   "execution_count": null,
   "metadata": {},
   "outputs": [],
   "source": [
    "\n",
    "myc1.execute('SHOW TABLES;')\n",
    "print(myc1.fetchall())"
   ]
  },
  {
   "cell_type": "code",
   "execution_count": null,
   "metadata": {},
   "outputs": [],
   "source": [
    "myc1.execute('SELECT * FROM STUDENT_J;')\n",
    "for i in myc1.fetchall():\n",
    "    print(i)"
   ]
  },
  {
   "cell_type": "code",
   "execution_count": null,
   "metadata": {},
   "outputs": [],
   "source": [
    "myc1.execute(\n",
    "    \"\"\"\n",
    "insert into STUDENT_J (sid, sname, dno, sage)\n",
    "values \n",
    "(5, 'eee', 'do1', 25),\n",
    "(6, 'fff', 'do1', 26),\n",
    "(7, 'ggg', 'do1', 27);\n",
    "\"\"\"\n",
    ")"
   ]
  },
  {
   "cell_type": "code",
   "execution_count": null,
   "metadata": {},
   "outputs": [],
   "source": [
    "db.commit()"
   ]
  },
  {
   "cell_type": "code",
   "execution_count": null,
   "metadata": {},
   "outputs": [],
   "source": [
    "myc1.execute('SELECT * FROM STUDENT_J;')\n",
    "for i in myc1.fetchall():\n",
    "    print(i)"
   ]
  },
  {
   "cell_type": "code",
   "execution_count": null,
   "metadata": {},
   "outputs": [],
   "source": [
    "myc1.execute('delete from STUDENT_J where sage between 22 and 24;')\n",
    "db.commit()"
   ]
  },
  {
   "cell_type": "code",
   "execution_count": null,
   "metadata": {},
   "outputs": [],
   "source": [
    "myc1.execute('SELECT * FROM STUDENT_J;')\n",
    "for i in myc1.fetchall():\n",
    "    print(i)"
   ]
  },
  {
   "cell_type": "code",
   "execution_count": null,
   "metadata": {},
   "outputs": [],
   "source": [
    "myc1.execute('''\n",
    "update STUDENT_J\n",
    "set dno = 'd02'\n",
    "where sid = 5;\n",
    "''')\n",
    "db.commit()"
   ]
  },
  {
   "cell_type": "code",
   "execution_count": null,
   "metadata": {},
   "outputs": [],
   "source": [
    "myc1.execute('SELECT * FROM STUDENT_J;')\n",
    "for i in myc1.fetchall():\n",
    "    print(i)"
   ]
  },
  {
   "cell_type": "code",
   "execution_count": null,
   "metadata": {},
   "outputs": [],
   "source": [
    "myc1.execute('''\n",
    "CREATE TABLE SC_J (\n",
    "sid INT,\n",
    "cid INT,\n",
    "score INT,\n",
    "PRIMARY KEY (sid, cid)\n",
    ");\n",
    "''')\n"
   ]
  },
  {
   "cell_type": "code",
   "execution_count": null,
   "metadata": {},
   "outputs": [],
   "source": [
    "myc1.execute('SHOW TABLES;')\n",
    "print(myc1.fetchall())"
   ]
  },
  {
   "cell_type": "code",
   "execution_count": null,
   "metadata": {},
   "outputs": [],
   "source": [
    "myc1.execute('''\n",
    "insert into SC_J (sid, cid, score)\n",
    "values\n",
    "(1, 001, 84),\n",
    "(1, 002, 99),\n",
    "(2, 001, 93),\n",
    "(2, 002, 100),\n",
    "(2, 003, 98),\n",
    "(3, 002, 86),\n",
    "(3, 003, 57);\n",
    "''')\n",
    "db.commit()"
   ]
  },
  {
   "cell_type": "code",
   "execution_count": null,
   "metadata": {},
   "outputs": [],
   "source": [
    "# show SC_J table\n",
    "myc1.execute('SELECT * FROM SC_J;')\n",
    "for i in myc1.fetchall():\n",
    "    print(i)"
   ]
  },
  {
   "cell_type": "code",
   "execution_count": null,
   "metadata": {},
   "outputs": [],
   "source": [
    "# show score > 98 in SC_J table\n",
    "myc1.execute('SELECT * FROM SC_J where score > 98;')\n",
    "for i in myc1.fetchall():\n",
    "    print(i)"
   ]
  },
  {
   "cell_type": "code",
   "execution_count": null,
   "metadata": {},
   "outputs": [],
   "source": [
    "# show score > 98 in SC_J table but remove repeated data\n",
    "myc1.execute('SELECT distinct * FROM SC_J where score > 98;')"
   ]
  },
  {
   "cell_type": "code",
   "execution_count": null,
   "metadata": {},
   "outputs": [],
   "source": [
    "# show each sid's average score\n",
    "myc1.execute('SELECT sid, avg(score) FROM SC_J group by sid;')\n",
    "for i in myc1.fetchall():\n",
    "    print(i)"
   ]
  },
  {
   "cell_type": "code",
   "execution_count": null,
   "metadata": {},
   "outputs": [],
   "source": [
    "# show max score of each sid\n",
    "myc1.execute('SELECT sid, max(score) FROM SC_J group by sid;')\n",
    "for i in myc1.fetchall():\n",
    "    print(i)"
   ]
  },
  {
   "cell_type": "code",
   "execution_count": null,
   "metadata": {},
   "outputs": [],
   "source": [
    "# show cid < 3 and use decending order\n",
    "myc1.execute('SELECT * FROM SC_J where cid < 3 order by score desc;')\n",
    "for i in myc1.fetchall():\n",
    "    print(i)"
   ]
  }
 ],
 "metadata": {
  "kernelspec": {
   "display_name": "base",
   "language": "python",
   "name": "python3"
  },
  "language_info": {
   "codemirror_mode": {
    "name": "ipython",
    "version": 3
   },
   "file_extension": ".py",
   "mimetype": "text/x-python",
   "name": "python",
   "nbconvert_exporter": "python",
   "pygments_lexer": "ipython3",
   "version": "3.12.4"
  }
 },
 "nbformat": 4,
 "nbformat_minor": 2
}
