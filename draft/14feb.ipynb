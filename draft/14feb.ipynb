{
 "cells": [
  {
   "cell_type": "code",
   "execution_count": 2,
   "metadata": {},
   "outputs": [
    {
     "name": "stdout",
     "output_type": "stream",
     "text": [
      "15\n",
      "55\n"
     ]
    }
   ],
   "source": [
    "# 计算1至N之间所有正整数的和\n",
    "def cum_sum(N):\n",
    "    sum = 0\n",
    "    for i in range(1, N+1):\n",
    "        sum += i\n",
    "    return sum\n",
    "print(cum_sum(5))\n",
    "print(cum_sum(10))\n"
   ]
  },
  {
   "cell_type": "code",
   "execution_count": 3,
   "metadata": {},
   "outputs": [
    {
     "name": "stdout",
     "output_type": "stream",
     "text": [
      "False\n"
     ]
    }
   ],
   "source": [
    "def is_prime(a):\n",
    "    for i in range(2,a):\n",
    "        if a % i == 0:\n",
    "            return False\n",
    "        else:\n",
    "            return True\n",
    "\n",
    "print(is_prime(4))"
   ]
  },
  {
   "cell_type": "code",
   "execution_count": 12,
   "metadata": {},
   "outputs": [
    {
     "name": "stdout",
     "output_type": "stream",
     "text": [
      "55\n"
     ]
    }
   ],
   "source": [
    "# fabonacci\n",
    "def fb(b):\n",
    "    if b == 1:\n",
    "        return 1\n",
    "    elif b == 2:\n",
    "        return 1\n",
    "    else:\n",
    "        return fb(b-1) + fb(b-2)\n",
    "\n",
    "print(fb(10))\n"
   ]
  },
  {
   "cell_type": "code",
   "execution_count": 15,
   "metadata": {},
   "outputs": [
    {
     "name": "stdout",
     "output_type": "stream",
     "text": [
      "10946\n"
     ]
    }
   ],
   "source": [
    "# 总共20米，每次走1米或2米，有多少种走法？ 递归\n",
    "def walk(n):\n",
    "    if n == 1:\n",
    "        return 1\n",
    "    elif n == 2:\n",
    "        return 2\n",
    "    else:\n",
    "        return walk(n-1) + walk(n-2)\n",
    "    \n",
    "print(walk(20))"
   ]
  },
  {
   "cell_type": "code",
   "execution_count": 2,
   "metadata": {},
   "outputs": [
    {
     "name": "stdout",
     "output_type": "stream",
     "text": [
      "A --> C\n",
      "A --> B\n",
      "C --> B\n",
      "A --> C\n",
      "B --> A\n",
      "B --> C\n",
      "A --> C\n"
     ]
    }
   ],
   "source": [
    "# hanoi\n",
    "def hanoi(tmp,a,b,c):\n",
    "    if tmp == 1:\n",
    "        print(a,'-->',c)\n",
    "    else:\n",
    "        hanoi(tmp-1,a,c,b)\n",
    "        print(a,'-->',c)\n",
    "        hanoi(tmp-1,b,a,c)\n",
    "\n",
    "hanoi(3,'A','B','C')"
   ]
  }
 ],
 "metadata": {
  "kernelspec": {
   "display_name": "base",
   "language": "python",
   "name": "python3"
  },
  "language_info": {
   "codemirror_mode": {
    "name": "ipython",
    "version": 3
   },
   "file_extension": ".py",
   "mimetype": "text/x-python",
   "name": "python",
   "nbconvert_exporter": "python",
   "pygments_lexer": "ipython3",
   "version": "3.12.4"
  }
 },
 "nbformat": 4,
 "nbformat_minor": 2
}
