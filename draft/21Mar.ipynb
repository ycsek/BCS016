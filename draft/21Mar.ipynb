{
 "cells": [
  {
   "cell_type": "code",
   "execution_count": 2,
   "metadata": {},
   "outputs": [],
   "source": [
    "import pymysql\n"
   ]
  },
  {
   "cell_type": "code",
   "execution_count": 8,
   "metadata": {},
   "outputs": [
    {
     "name": "stdout",
     "output_type": "stream",
     "text": [
      "<pymysql.connections.Connection object at 0x000002143C2A84A0>\n"
     ]
    }
   ],
   "source": [
    "db = pymysql.connect(host='localhost', user='root', password='050801')\n",
    "print(db)"
   ]
  },
  {
   "cell_type": "code",
   "execution_count": 9,
   "metadata": {},
   "outputs": [
    {
     "name": "stdout",
     "output_type": "stream",
     "text": [
      "<pymysql.cursors.Cursor object at 0x000002143D212000>\n"
     ]
    }
   ],
   "source": [
    "myc = db.cursor()\n",
    "print(myc)"
   ]
  },
  {
   "cell_type": "code",
   "execution_count": 10,
   "metadata": {},
   "outputs": [
    {
     "name": "stdout",
     "output_type": "stream",
     "text": [
      "(('28feb25',), ('db_spj_jason',), ('db_w6_jason',), ('db_w7_syc',), ('information_schema',), ('j28feb',), ('jason21feb25',), ('jason_db_ch02',), ('jason_db_hw07',), ('jasonhw01',), ('mysql',), ('performance_schema',), ('pms01_j',), ('sys',), ('w09_syc',))\n"
     ]
    }
   ],
   "source": [
    "myc.execute('show databases')\n",
    "print(myc.fetchall())"
   ]
  },
  {
   "cell_type": "code",
   "execution_count": null,
   "metadata": {},
   "outputs": [],
   "source": [
    "# Create database\n",
    "myc.execute(\"CREATE DATABASE W09_SYC;\")\n",
    "myc.execute(\"show databases\")\n",
    "print(myc.fetchall())\n",
    "print(\"Database created\")"
   ]
  },
  {
   "cell_type": "code",
   "execution_count": 12,
   "metadata": {},
   "outputs": [
    {
     "data": {
      "text/plain": [
       "0"
      ]
     },
     "execution_count": 12,
     "metadata": {},
     "output_type": "execute_result"
    }
   ],
   "source": [
    "myc.execute('use W09_SYC;')"
   ]
  },
  {
   "cell_type": "code",
   "execution_count": null,
   "metadata": {},
   "outputs": [
    {
     "name": "stdout",
     "output_type": "stream",
     "text": [
      "(('grade',),)\n"
     ]
    }
   ],
   "source": [
    "myc.execute('CREATE TABLE GRADE(id INT PRIMARY KEY, name VARCHAR(36))')\n",
    "myc.execute('show tables')\n",
    "print(myc.fetchall())"
   ]
  },
  {
   "cell_type": "code",
   "execution_count": null,
   "metadata": {},
   "outputs": [
    {
     "name": "stdout",
     "output_type": "stream",
     "text": [
      "(('grade',), ('student',))\n"
     ]
    }
   ],
   "source": [
    "myc.execute('CREATE TABLE STUDENT(sid INT PRIMARY KEY, sname VARCHAR(36), gid INT NOT NULL)')\n",
    "myc.execute('show tables')\n",
    "print(myc.fetchall())"
   ]
  },
  {
   "cell_type": "code",
   "execution_count": null,
   "metadata": {},
   "outputs": [
    {
     "name": "stdout",
     "output_type": "stream",
     "text": [
      "(('sid', 'int', 'NO', 'PRI', None, ''), ('sname', 'varchar(36)', 'YES', '', None, ''), ('gid', 'int', 'NO', '', None, ''))\n"
     ]
    }
   ],
   "source": [
    "myc.execute('DESC STUDENT')\n",
    "print(myc.fetchall())"
   ]
  },
  {
   "cell_type": "code",
   "execution_count": null,
   "metadata": {},
   "outputs": [
    {
     "data": {
      "text/plain": [
       "0"
      ]
     },
     "execution_count": 22,
     "metadata": {},
     "output_type": "execute_result"
    }
   ],
   "source": [
    "myc.execute('ALTER TABLE STUDENT ADD CONSTRAINT KF_ID FOREIGN KEY(gid) REFERENCES GRADE(id)')"
   ]
  },
  {
   "cell_type": "code",
   "execution_count": null,
   "metadata": {},
   "outputs": [
    {
     "name": "stdout",
     "output_type": "stream",
     "text": [
      "(('sid', 'int', 'NO', 'PRI', None, ''), ('sname', 'varchar(36)', 'YES', '', None, ''), ('gid', 'int', 'NO', 'MUL', None, ''))\n"
     ]
    }
   ],
   "source": [
    "myc.execute('DESC STUDENT')\n",
    "print(myc.fetchall())"
   ]
  },
  {
   "cell_type": "code",
   "execution_count": null,
   "metadata": {},
   "outputs": [
    {
     "name": "stdout",
     "output_type": "stream",
     "text": [
      "(('STUDENT', 'CREATE TABLE `student` (\\n  `sid` int NOT NULL,\\n  `sname` varchar(36) DEFAULT NULL,\\n  `gid` int NOT NULL,\\n  PRIMARY KEY (`sid`),\\n  KEY `KF_ID` (`gid`),\\n  CONSTRAINT `KF_ID` FOREIGN KEY (`gid`) REFERENCES `grade` (`id`)\\n) ENGINE=InnoDB DEFAULT CHARSET=utf8mb4 COLLATE=utf8mb4_0900_ai_ci'),)\n"
     ]
    }
   ],
   "source": [
    "myc.execute('show create table STUDENT')\n",
    "print(myc.fetchall())"
   ]
  },
  {
   "cell_type": "code",
   "execution_count": null,
   "metadata": {},
   "outputs": [
    {
     "name": "stdout",
     "output_type": "stream",
     "text": [
      "(('STUDENT', 'CREATE TABLE `student` (\\n  `sid` int NOT NULL,\\n  `sname` varchar(36) DEFAULT NULL,\\n  `gid` int NOT NULL,\\n  PRIMARY KEY (`sid`),\\n  KEY `KF_ID` (`gid`)\\n) ENGINE=InnoDB DEFAULT CHARSET=utf8mb4 COLLATE=utf8mb4_0900_ai_ci'),)\n"
     ]
    }
   ],
   "source": [
    "myc.execute('alter table STUDENT drop foreign key KF_ID')\n",
    "myc.execute('show create table STUDENT')\n",
    "print(myc.fetchall())"
   ]
  },
  {
   "cell_type": "code",
   "execution_count": 13,
   "metadata": {},
   "outputs": [
    {
     "data": {
      "text/plain": [
       "0"
      ]
     },
     "execution_count": 13,
     "metadata": {},
     "output_type": "execute_result"
    }
   ],
   "source": [
    "myc.execute('ALTER TABLE STUDENT ADD CONSTRAINT KF_ID FOREIGN KEY(gid) REFERENCES GRADE(id);')"
   ]
  },
  {
   "cell_type": "code",
   "execution_count": 14,
   "metadata": {},
   "outputs": [
    {
     "name": "stdout",
     "output_type": "stream",
     "text": [
      "(('sid', 'int', 'NO', 'PRI', None, ''), ('sname', 'varchar(36)', 'YES', '', None, ''), ('gid', 'int', 'NO', 'MUL', None, ''))\n"
     ]
    }
   ],
   "source": [
    "myc.execute('DESC STUDENT')\n",
    "print(myc.fetchall())"
   ]
  },
  {
   "cell_type": "code",
   "execution_count": 16,
   "metadata": {},
   "outputs": [
    {
     "data": {
      "text/plain": [
       "2"
      ]
     },
     "execution_count": 16,
     "metadata": {},
     "output_type": "execute_result"
    }
   ],
   "source": [
    "myc.execute('''\n",
    "insert into GRADE (id, name)\n",
    "values\n",
    "(1, 'BIT'),\n",
    "(2, 'BCS');\n",
    "''')\n"
   ]
  },
  {
   "cell_type": "code",
   "execution_count": 17,
   "metadata": {},
   "outputs": [
    {
     "name": "stdout",
     "output_type": "stream",
     "text": [
      "((1, 'BIT'), (2, 'BCS'))\n"
     ]
    }
   ],
   "source": [
    "myc.execute('select * from GRADE')\n",
    "print(myc.fetchall())"
   ]
  },
  {
   "cell_type": "code",
   "execution_count": 19,
   "metadata": {},
   "outputs": [
    {
     "data": {
      "text/plain": [
       "4"
      ]
     },
     "execution_count": 19,
     "metadata": {},
     "output_type": "execute_result"
    }
   ],
   "source": [
    "myc.execute('''\n",
    "insert into STUDENT (sid, sname, gid)\n",
    "values\n",
    "(1, 'Alice', 1),\n",
    "(2, 'Bob', 1),\n",
    "(3, 'Cathy', 2),\n",
    "(4, 'David', 2);\n",
    "''')"
   ]
  },
  {
   "cell_type": "code",
   "execution_count": 21,
   "metadata": {},
   "outputs": [
    {
     "name": "stdout",
     "output_type": "stream",
     "text": [
      "((1, 'Alice', 1), (2, 'Bob', 1), (3, 'Cathy', 2), (4, 'David', 2))\n"
     ]
    }
   ],
   "source": [
    "myc.execute('select * from STUDENT;')\n",
    "print(myc.fetchall())"
   ]
  },
  {
   "cell_type": "code",
   "execution_count": null,
   "metadata": {},
   "outputs": [
    {
     "name": "stdout",
     "output_type": "stream",
     "text": [
      "((1,),)\n"
     ]
    }
   ],
   "source": [
    "myc.execute('''select id from grade where name = \"BIT\"''')\n",
    "print(myc.fetchall())\n"
   ]
  },
  {
   "cell_type": "code",
   "execution_count": 26,
   "metadata": {},
   "outputs": [
    {
     "name": "stdout",
     "output_type": "stream",
     "text": [
      "(('Alice',), ('Bob',))\n"
     ]
    }
   ],
   "source": [
    "myc.execute('''select sname from student where gid = 1''')\n",
    "print(myc.fetchall())"
   ]
  },
  {
   "cell_type": "code",
   "execution_count": 27,
   "metadata": {},
   "outputs": [
    {
     "data": {
      "text/plain": [
       "1"
      ]
     },
     "execution_count": 27,
     "metadata": {},
     "output_type": "execute_result"
    }
   ],
   "source": [
    "myc.execute('delete from student where gid = 1')\n",
    "myc.execute(''' delete from grade where name = \"BIT\"''')"
   ]
  },
  {
   "cell_type": "code",
   "execution_count": 28,
   "metadata": {},
   "outputs": [
    {
     "name": "stdout",
     "output_type": "stream",
     "text": [
      "(('department',), ('grade',), ('student',))\n"
     ]
    }
   ],
   "source": [
    "myc.execute('create table department (did int primary key, dname varchar(36))')\n",
    "myc.execute('show tables')\n",
    "print(myc.fetchall())"
   ]
  },
  {
   "cell_type": "code",
   "execution_count": 29,
   "metadata": {},
   "outputs": [
    {
     "name": "stdout",
     "output_type": "stream",
     "text": [
      "(('department',), ('employee',), ('grade',), ('student',))\n"
     ]
    }
   ],
   "source": [
    "myc.execute('create table employee (id int primary key, name varchar(36), age int, did int not null)')\n",
    "myc.execute('show tables')\n",
    "print(myc.fetchall())"
   ]
  },
  {
   "cell_type": "code",
   "execution_count": 31,
   "metadata": {},
   "outputs": [
    {
     "data": {
      "text/plain": [
       "4"
      ]
     },
     "execution_count": 31,
     "metadata": {},
     "output_type": "execute_result"
    }
   ],
   "source": [
    "myc.execute(''' insert into department (did, dname)\n",
    "values\n",
    "(1, 'IT'),\n",
    "(2, 'FID'),\n",
    "(3, 'QA'),\n",
    "(4, 'HR');\n",
    "''')\n"
   ]
  },
  {
   "cell_type": "code",
   "execution_count": 33,
   "metadata": {},
   "outputs": [
    {
     "name": "stdout",
     "output_type": "stream",
     "text": [
      "((1, 'IT'), (2, 'FID'), (3, 'QA'), (4, 'HR'))\n"
     ]
    }
   ],
   "source": [
    "myc.execute('select * from department')\n",
    "print(myc.fetchall())"
   ]
  },
  {
   "cell_type": "code",
   "execution_count": 34,
   "metadata": {},
   "outputs": [
    {
     "data": {
      "text/plain": [
       "4"
      ]
     },
     "execution_count": 34,
     "metadata": {},
     "output_type": "execute_result"
    }
   ],
   "source": [
    "myc.execute('''\n",
    "insert into employee (id, name, age, did)\n",
    "values\n",
    "(1, 'Gary', 30, 1),\n",
    "(2, 'Sean', 25, 1),\n",
    "(3, 'Jane', 20, 2),\n",
    "(4, 'Mark', 23, 4);\n",
    "''')"
   ]
  },
  {
   "cell_type": "code",
   "execution_count": 35,
   "metadata": {},
   "outputs": [
    {
     "name": "stdout",
     "output_type": "stream",
     "text": [
      "((1, 'Gary', 30, 1), (2, 'Sean', 25, 1), (3, 'Jane', 20, 2), (4, 'Mark', 23, 4))\n"
     ]
    }
   ],
   "source": [
    "myc.execute('select * from employee')\n",
    "print(myc.fetchall())"
   ]
  },
  {
   "cell_type": "code",
   "execution_count": null,
   "metadata": {},
   "outputs": [
    {
     "name": "stdout",
     "output_type": "stream",
     "text": [
      "(('EMPLOYEE', 'CREATE TABLE `employee` (\\n  `id` int NOT NULL,\\n  `name` varchar(36) DEFAULT NULL,\\n  `age` int DEFAULT NULL,\\n  `did` int NOT NULL,\\n  PRIMARY KEY (`id`)\\n) ENGINE=InnoDB DEFAULT CHARSET=utf8mb4 COLLATE=utf8mb4_0900_ai_ci'),)\n"
     ]
    }
   ],
   "source": [
    "myc.execute('SHOW CREATE TABLE EMPLOYEE')\n",
    "print(myc.fetchall())"
   ]
  },
  {
   "cell_type": "code",
   "execution_count": null,
   "metadata": {},
   "outputs": [
    {
     "name": "stdout",
     "output_type": "stream",
     "text": [
      "(4, 'HR', 1, 'Gary', 30, 1)\n",
      "(3, 'QA', 1, 'Gary', 30, 1)\n",
      "(2, 'FID', 1, 'Gary', 30, 1)\n",
      "(1, 'IT', 1, 'Gary', 30, 1)\n",
      "(4, 'HR', 2, 'Sean', 25, 1)\n",
      "(3, 'QA', 2, 'Sean', 25, 1)\n",
      "(2, 'FID', 2, 'Sean', 25, 1)\n",
      "(1, 'IT', 2, 'Sean', 25, 1)\n",
      "(4, 'HR', 3, 'Jane', 20, 2)\n",
      "(3, 'QA', 3, 'Jane', 20, 2)\n",
      "(2, 'FID', 3, 'Jane', 20, 2)\n",
      "(1, 'IT', 3, 'Jane', 20, 2)\n",
      "(4, 'HR', 4, 'Mark', 23, 4)\n",
      "(3, 'QA', 4, 'Mark', 23, 4)\n",
      "(2, 'FID', 4, 'Mark', 23, 4)\n",
      "(1, 'IT', 4, 'Mark', 23, 4)\n"
     ]
    }
   ],
   "source": [
    "myc.execute('select * from department join employee')\n",
    "for i in myc.fetchall():\n",
    "    print(i)\n"
   ]
  },
  {
   "cell_type": "code",
   "execution_count": 41,
   "metadata": {},
   "outputs": [
    {
     "name": "stdout",
     "output_type": "stream",
     "text": [
      "(1, 'IT', 1, 'Gary', 30, 1)\n",
      "(1, 'IT', 2, 'Sean', 25, 1)\n",
      "(2, 'FID', 3, 'Jane', 20, 2)\n",
      "(4, 'HR', 4, 'Mark', 23, 4)\n"
     ]
    }
   ],
   "source": [
    "myc.execute('select * from department join employee on department.did = employee.did')\n",
    "for i in myc.fetchall():\n",
    "    print(i)"
   ]
  },
  {
   "cell_type": "code",
   "execution_count": 43,
   "metadata": {},
   "outputs": [
    {
     "name": "stdout",
     "output_type": "stream",
     "text": [
      "(1, 'IT', 1, 'Gary', 30)\n",
      "(1, 'IT', 2, 'Sean', 25)\n",
      "(2, 'FID', 3, 'Jane', 20)\n",
      "(4, 'HR', 4, 'Mark', 23)\n"
     ]
    }
   ],
   "source": [
    "myc.execute('select * from department join employee using (did)')\n",
    "for i in myc.fetchall():\n",
    "    print(i)"
   ]
  },
  {
   "cell_type": "code",
   "execution_count": 44,
   "metadata": {},
   "outputs": [
    {
     "name": "stdout",
     "output_type": "stream",
     "text": [
      "('Gary', 'IT')\n",
      "('Sean', 'IT')\n",
      "('Jane', 'FID')\n",
      "('Mark', 'HR')\n"
     ]
    }
   ],
   "source": [
    "myc.execute('select employee.name, department.dname from department, employee where department.did = employee.did')\n",
    "for i in myc.fetchall():\n",
    "    print(i)"
   ]
  },
  {
   "cell_type": "code",
   "execution_count": 45,
   "metadata": {},
   "outputs": [
    {
     "name": "stdout",
     "output_type": "stream",
     "text": [
      "(1, 'Gary', 30, 1)\n",
      "(2, 'Sean', 25, 1)\n"
     ]
    }
   ],
   "source": [
    "myc.execute('select p1.* from employee p1 join employee p2 on p1.did = p2.did where p2.name = \"Gary\"')\n",
    "for i in myc.fetchall():\n",
    "    print(i)"
   ]
  },
  {
   "cell_type": "code",
   "execution_count": 47,
   "metadata": {},
   "outputs": [
    {
     "name": "stdout",
     "output_type": "stream",
     "text": [
      "(1, 'IT', 'Sean')\n",
      "(1, 'IT', 'Gary')\n",
      "(2, 'FID', 'Jane')\n",
      "(3, 'QA', None)\n",
      "(4, 'HR', 'Mark')\n"
     ]
    }
   ],
   "source": [
    "myc.execute('select department.did, department.dname, employee.name from department left join employee on department.did = employee.did')\n",
    "for i in myc.fetchall():\n",
    "    print(i)"
   ]
  }
 ],
 "metadata": {
  "kernelspec": {
   "display_name": "base",
   "language": "python",
   "name": "python3"
  },
  "language_info": {
   "codemirror_mode": {
    "name": "ipython",
    "version": 3
   },
   "file_extension": ".py",
   "mimetype": "text/x-python",
   "name": "python",
   "nbconvert_exporter": "python",
   "pygments_lexer": "ipython3",
   "version": "3.12.4"
  }
 },
 "nbformat": 4,
 "nbformat_minor": 2
}
