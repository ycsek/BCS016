{
 "cells": [
  {
   "cell_type": "code",
   "execution_count": null,
   "metadata": {},
   "outputs": [],
   "source": [
    "import pymysql\n"
   ]
  },
  {
   "cell_type": "code",
   "execution_count": null,
   "metadata": {},
   "outputs": [],
   "source": [
    "db = pymysql.connect(host='localhost', user='root', password='050801')\n",
    "print(db)"
   ]
  },
  {
   "cell_type": "code",
   "execution_count": null,
   "metadata": {},
   "outputs": [],
   "source": [
    "myc = db.cursor()\n",
    "print(myc)"
   ]
  },
  {
   "cell_type": "code",
   "execution_count": null,
   "metadata": {},
   "outputs": [],
   "source": [
    "myc.execute('show databases')\n",
    "print(myc.fetchall())"
   ]
  },
  {
   "cell_type": "code",
   "execution_count": null,
   "metadata": {},
   "outputs": [],
   "source": [
    "# Create database\n",
    "myc.execute(\"CREATE DATABASE W09_SYC;\")\n",
    "myc.execute(\"show databases\")\n",
    "print(myc.fetchall())\n",
    "print(\"Database created\")"
   ]
  },
  {
   "cell_type": "code",
   "execution_count": null,
   "metadata": {},
   "outputs": [],
   "source": [
    "myc.execute('use W09_SYC;')"
   ]
  },
  {
   "cell_type": "code",
   "execution_count": null,
   "metadata": {},
   "outputs": [],
   "source": [
    "myc.execute('CREATE TABLE GRADE(id INT PRIMARY KEY, name VARCHAR(36))')\n",
    "myc.execute('show tables')\n",
    "print(myc.fetchall())"
   ]
  },
  {
   "cell_type": "code",
   "execution_count": null,
   "metadata": {},
   "outputs": [],
   "source": [
    "myc.execute('CREATE TABLE STUDENT(sid INT PRIMARY KEY, sname VARCHAR(36), gid INT NOT NULL)')\n",
    "myc.execute('show tables')\n",
    "print(myc.fetchall())"
   ]
  },
  {
   "cell_type": "code",
   "execution_count": null,
   "metadata": {},
   "outputs": [],
   "source": [
    "myc.execute('DESC STUDENT')\n",
    "print(myc.fetchall())"
   ]
  },
  {
   "cell_type": "code",
   "execution_count": null,
   "metadata": {},
   "outputs": [],
   "source": [
    "myc.execute('ALTER TABLE STUDENT ADD CONSTRAINT KF_ID FOREIGN KEY(gid) REFERENCES GRADE(id)')"
   ]
  },
  {
   "cell_type": "code",
   "execution_count": null,
   "metadata": {},
   "outputs": [],
   "source": [
    "myc.execute('DESC STUDENT')\n",
    "print(myc.fetchall())"
   ]
  },
  {
   "cell_type": "code",
   "execution_count": null,
   "metadata": {},
   "outputs": [],
   "source": [
    "myc.execute('show create table STUDENT')\n",
    "print(myc.fetchall())"
   ]
  },
  {
   "cell_type": "code",
   "execution_count": null,
   "metadata": {},
   "outputs": [],
   "source": [
    "myc.execute('alter table STUDENT drop foreign key KF_ID')\n",
    "myc.execute('show create table STUDENT')\n",
    "print(myc.fetchall())"
   ]
  },
  {
   "cell_type": "code",
   "execution_count": null,
   "metadata": {},
   "outputs": [],
   "source": [
    "myc.execute('ALTER TABLE STUDENT ADD CONSTRAINT KF_ID FOREIGN KEY(gid) REFERENCES GRADE(id);')"
   ]
  },
  {
   "cell_type": "code",
   "execution_count": null,
   "metadata": {},
   "outputs": [],
   "source": [
    "myc.execute('DESC STUDENT')\n",
    "print(myc.fetchall())"
   ]
  },
  {
   "cell_type": "code",
   "execution_count": null,
   "metadata": {},
   "outputs": [],
   "source": [
    "myc.execute('''\n",
    "insert into GRADE (id, name)\n",
    "values\n",
    "(1, 'BIT'),\n",
    "(2, 'BCS');\n",
    "''')\n"
   ]
  },
  {
   "cell_type": "code",
   "execution_count": null,
   "metadata": {},
   "outputs": [],
   "source": [
    "myc.execute('select * from GRADE')\n",
    "print(myc.fetchall())"
   ]
  },
  {
   "cell_type": "code",
   "execution_count": null,
   "metadata": {},
   "outputs": [],
   "source": [
    "myc.execute('''\n",
    "insert into STUDENT (sid, sname, gid)\n",
    "values\n",
    "(1, 'Alice', 1),\n",
    "(2, 'Bob', 1),\n",
    "(3, 'Cathy', 2),\n",
    "(4, 'David', 2);\n",
    "''')"
   ]
  },
  {
   "cell_type": "code",
   "execution_count": null,
   "metadata": {},
   "outputs": [],
   "source": [
    "myc.execute('select * from STUDENT;')\n",
    "print(myc.fetchall())"
   ]
  },
  {
   "cell_type": "code",
   "execution_count": null,
   "metadata": {},
   "outputs": [],
   "source": [
    "myc.execute('''select id from grade where name = \"BIT\"''')\n",
    "print(myc.fetchall())\n"
   ]
  },
  {
   "cell_type": "code",
   "execution_count": null,
   "metadata": {},
   "outputs": [],
   "source": [
    "myc.execute('''select sname from student where gid = 1''')\n",
    "print(myc.fetchall())"
   ]
  },
  {
   "cell_type": "code",
   "execution_count": null,
   "metadata": {},
   "outputs": [],
   "source": [
    "myc.execute('delete from student where gid = 1')\n",
    "myc.execute(''' delete from grade where name = \"BIT\"''')"
   ]
  },
  {
   "cell_type": "code",
   "execution_count": null,
   "metadata": {},
   "outputs": [],
   "source": [
    "myc.execute('create table department (did int primary key, dname varchar(36))')\n",
    "myc.execute('show tables')\n",
    "print(myc.fetchall())"
   ]
  },
  {
   "cell_type": "code",
   "execution_count": null,
   "metadata": {},
   "outputs": [],
   "source": [
    "myc.execute('create table employee (id int primary key, name varchar(36), age int, did int not null)')\n",
    "myc.execute('show tables')\n",
    "print(myc.fetchall())"
   ]
  },
  {
   "cell_type": "code",
   "execution_count": null,
   "metadata": {},
   "outputs": [],
   "source": [
    "myc.execute(''' insert into department (did, dname)\n",
    "values\n",
    "(1, 'IT'),\n",
    "(2, 'FID'),\n",
    "(3, 'QA'),\n",
    "(4, 'HR');\n",
    "''')\n"
   ]
  },
  {
   "cell_type": "code",
   "execution_count": null,
   "metadata": {},
   "outputs": [],
   "source": [
    "myc.execute('select * from department')\n",
    "print(myc.fetchall())"
   ]
  },
  {
   "cell_type": "code",
   "execution_count": null,
   "metadata": {},
   "outputs": [],
   "source": [
    "myc.execute('''\n",
    "insert into employee (id, name, age, did)\n",
    "values\n",
    "(1, 'Gary', 30, 1),\n",
    "(2, 'Sean', 25, 1),\n",
    "(3, 'Jane', 20, 2),\n",
    "(4, 'Mark', 23, 4);\n",
    "''')"
   ]
  },
  {
   "cell_type": "code",
   "execution_count": null,
   "metadata": {},
   "outputs": [],
   "source": [
    "myc.execute('select * from employee')\n",
    "print(myc.fetchall())"
   ]
  },
  {
   "cell_type": "code",
   "execution_count": null,
   "metadata": {},
   "outputs": [],
   "source": [
    "myc.execute('SHOW CREATE TABLE EMPLOYEE')\n",
    "print(myc.fetchall())"
   ]
  },
  {
   "cell_type": "code",
   "execution_count": null,
   "metadata": {},
   "outputs": [],
   "source": [
    "myc.execute('select * from department join employee')\n",
    "for i in myc.fetchall():\n",
    "    print(i)\n"
   ]
  },
  {
   "cell_type": "code",
   "execution_count": null,
   "metadata": {},
   "outputs": [],
   "source": [
    "myc.execute('select * from department join employee on department.did = employee.did')\n",
    "for i in myc.fetchall():\n",
    "    print(i)"
   ]
  },
  {
   "cell_type": "code",
   "execution_count": null,
   "metadata": {},
   "outputs": [],
   "source": [
    "myc.execute('select * from department join employee using (did)')\n",
    "for i in myc.fetchall():\n",
    "    print(i)"
   ]
  },
  {
   "cell_type": "code",
   "execution_count": null,
   "metadata": {},
   "outputs": [],
   "source": [
    "myc.execute('select employee.name, department.dname from department, employee where department.did = employee.did')\n",
    "for i in myc.fetchall():\n",
    "    print(i)"
   ]
  },
  {
   "cell_type": "code",
   "execution_count": null,
   "metadata": {},
   "outputs": [],
   "source": [
    "myc.execute('select p1.* from employee p1 join employee p2 on p1.did = p2.did where p2.name = \"Gary\"')\n",
    "for i in myc.fetchall():\n",
    "    print(i)"
   ]
  },
  {
   "cell_type": "code",
   "execution_count": null,
   "metadata": {},
   "outputs": [],
   "source": [
    "myc.execute('select department.did, department.dname, employee.name from department left join employee on department.did = employee.did')\n",
    "for i in myc.fetchall():\n",
    "    print(i)"
   ]
  }
 ],
 "metadata": {
  "kernelspec": {
   "display_name": "base",
   "language": "python",
   "name": "python3"
  },
  "language_info": {
   "codemirror_mode": {
    "name": "ipython",
    "version": 3
   },
   "file_extension": ".py",
   "mimetype": "text/x-python",
   "name": "python",
   "nbconvert_exporter": "python",
   "pygments_lexer": "ipython3",
   "version": "3.12.4"
  }
 },
 "nbformat": 4,
 "nbformat_minor": 2
}
